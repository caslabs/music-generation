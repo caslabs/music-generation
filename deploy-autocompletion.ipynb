{
 "cells": [
  {
   "cell_type": "code",
   "execution_count": 2,
   "metadata": {},
   "outputs": [],
   "source": [
    "%reload_ext autoreload\n",
    "%autoreload 2\n",
    "%matplotlib inline"
   ]
  },
  {
   "cell_type": "code",
   "execution_count": 3,
   "metadata": {},
   "outputs": [
    {
     "name": "stderr",
     "output_type": "stream",
     "text": [
      "2023-04-25 04:08:35.491563: I tensorflow/core/platform/cpu_feature_guard.cc:193] This TensorFlow binary is optimized with oneAPI Deep Neural Network Library (oneDNN) to use the following CPU instructions in performance-critical operations:  SSE4.1 SSE4.2\n",
      "To enable them in other operations, rebuild TensorFlow with the appropriate compiler flags.\n"
     ]
    }
   ],
   "source": [
    "from utils.musicautobot.numpy_encode import *\n",
    "from utils.musicautobot.utils.file_processing import process_all, process_file\n",
    "from utils.musicautobot.config import *\n",
    "from utils.musicautobot.music_transformer import *"
   ]
  },
  {
   "cell_type": "code",
   "execution_count": 4,
   "metadata": {},
   "outputs": [],
   "source": [
    "data_path = Path('data/musicautobot-midi/examples')# Data\n",
    "data = MusicDataBunch.empty(data_path)\n",
    "vocab = data.vocab"
   ]
  },
  {
   "cell_type": "code",
   "execution_count": 11,
   "metadata": {},
   "outputs": [
    {
     "name": "stderr",
     "output_type": "stream",
     "text": [
      "/Users/caslabs/opt/anaconda3/envs/musicautobot/lib/python3.10/site-packages/gradio/utils.py:883: UserWarning: Expected maximum 6 arguments for function <function predict at 0x7fc612829ea0>, received 7.\n",
      "  warnings.warn(\n"
     ]
    },
    {
     "name": "stdout",
     "output_type": "stream",
     "text": [
      "Running on local URL:  http://127.0.0.1:7867\n",
      "\n",
      "To create a public link, set `share=True` in `launch()`.\n"
     ]
    },
    {
     "data": {
      "text/html": [
       "<div><iframe src=\"http://127.0.0.1:7867/\" width=\"100%\" height=\"500\" allow=\"autoplay; camera; microphone; clipboard-read; clipboard-write;\" frameborder=\"0\" allowfullscreen></iframe></div>"
      ],
      "text/plain": [
       "<IPython.core.display.HTML object>"
      ]
     },
     "metadata": {},
     "output_type": "display_data"
    },
    {
     "data": {
      "text/plain": []
     },
     "execution_count": 11,
     "metadata": {},
     "output_type": "execute_result"
    }
   ],
   "source": [
    "import gradio as gr\n",
    "\n",
    "def predict(n_words=400, temperature1=1.1, temperature2=0.4, min_bars=12, top_k=24, top_p=0.7):\n",
    "    seed_item = None  # You will implement this later\n",
    "    pred, full = learn.predict(seed_item, n_words=n_words, temperatures=(temperature1, temperature2), min_bars=min_bars, top_k=top_k, top_p=top_p)\n",
    "    return pred, full\n",
    "\n",
    "iface = gr.Interface(fn=predict,\n",
    "                     inputs=[\n",
    "                         gr.inputs.File(label=\"Seed MIDI\"),\n",
    "                         gr.inputs.Slider(50, 1000, step=10, default=400, label=\"Number of Words\"),\n",
    "                         gr.inputs.Slider(0.0, 2.0, step=0.1, default=1.1, label=\"Temperature 1\"),\n",
    "                         gr.inputs.Slider(0.0, 2.0, step=0.1, default=0.4, label=\"Temperature 2\"),\n",
    "                         gr.inputs.Slider(1, 32, step=1, default=12, label=\"Min Bars\"),\n",
    "                         gr.inputs.Slider(1, 50, step=1, default=24, label=\"Top K\"),\n",
    "                         gr.inputs.Slider(0.0, 1.0, step=0.1, default=0.7, label=\"Top P\")\n",
    "                     ],\n",
    "                     outputs=[\n",
    "                         gr.outputs.Textbox(label=\"Prediction\"),\n",
    "                         gr.outputs.Textbox(label=\"Full Output\")\n",
    "                     ],\n",
    "                     examples=[\n",
    "                         [\"example_seed_MIDI.txt\", 400, 1.1, 0.4, 12, 24, 0.7]  # Example with the dummy seed item file\n",
    "                     ])\n",
    "\n",
    "iface.launch()\n",
    "\n",
    "\n"
   ]
  },
  {
   "cell_type": "code",
   "execution_count": null,
   "metadata": {},
   "outputs": [],
   "source": []
  }
 ],
 "metadata": {
  "kernelspec": {
   "display_name": "music-gen",
   "language": "python",
   "name": "python3"
  },
  "language_info": {
   "codemirror_mode": {
    "name": "ipython",
    "version": 3
   },
   "file_extension": ".py",
   "mimetype": "text/x-python",
   "name": "python",
   "nbconvert_exporter": "python",
   "pygments_lexer": "ipython3",
   "version": "3.10.9"
  },
  "orig_nbformat": 4
 },
 "nbformat": 4,
 "nbformat_minor": 2
}
