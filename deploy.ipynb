{
 "cells": [
  {
   "cell_type": "code",
   "execution_count": 6,
   "metadata": {},
   "outputs": [],
   "source": [
    "%reload_ext autoreload\n",
    "%autoreload 2\n",
    "%matplotlib inline"
   ]
  },
  {
   "cell_type": "code",
   "execution_count": 7,
   "metadata": {},
   "outputs": [],
   "source": [
    "from utils.musicautobot.numpy_encode import *\n",
    "from utils.musicautobot.utils.file_processing import process_all, process_file\n",
    "from utils.musicautobot.config import *\n",
    "from utils.musicautobot.music_transformer import *"
   ]
  },
  {
   "cell_type": "code",
   "execution_count": 8,
   "metadata": {},
   "outputs": [],
   "source": [
    "data_path = Path('data/musicautobot-midi/examples')# Data\n",
    "data = MusicDataBunch.empty(data_path)\n",
    "vocab = data.vocab"
   ]
  },
  {
   "cell_type": "code",
   "execution_count": null,
   "metadata": {},
   "outputs": [
    {
     "name": "stderr",
     "output_type": "stream",
     "text": [
      "/Users/caslabs/opt/anaconda3/envs/musicautobot/lib/python3.10/site-packages/gradio/inputs.py:27: UserWarning: Usage of gradio.inputs is deprecated, and will not be supported in the future, please import your component from gradio.components\n",
      "  warnings.warn(\n",
      "/Users/caslabs/opt/anaconda3/envs/musicautobot/lib/python3.10/site-packages/gradio/deprecation.py:40: UserWarning: `optional` parameter is deprecated, and it has no effect\n",
      "  warnings.warn(value)\n",
      "/Users/caslabs/opt/anaconda3/envs/musicautobot/lib/python3.10/site-packages/gradio/deprecation.py:40: UserWarning: `numeric` parameter is deprecated, and it has no effect\n",
      "  warnings.warn(value)\n",
      "/Users/caslabs/opt/anaconda3/envs/musicautobot/lib/python3.10/site-packages/gradio/inputs.py:89: UserWarning: Usage of gradio.inputs is deprecated, and will not be supported in the future, please import your component from gradio.components\n",
      "  warnings.warn(\n",
      "/Users/caslabs/opt/anaconda3/envs/musicautobot/lib/python3.10/site-packages/gradio/inputs.py:59: UserWarning: Usage of gradio.inputs is deprecated, and will not be supported in the future, please import your component from gradio.components\n",
      "  warnings.warn(\n",
      "/Users/caslabs/opt/anaconda3/envs/musicautobot/lib/python3.10/site-packages/gradio/outputs.py:98: UserWarning: Usage of gradio.outputs is deprecated, and will not be supported in the future, please import your components from gradio.components\n",
      "  warnings.warn(\n"
     ]
    },
    {
     "name": "stdout",
     "output_type": "stream",
     "text": [
      "Running on local URL:  http://127.0.0.1:7863\n",
      "\n",
      "To create a public link, set `share=True` in `launch()`.\n"
     ]
    },
    {
     "data": {
      "text/html": [
       "<div><iframe src=\"http://127.0.0.1:7863/\" width=\"100%\" height=\"500\" allow=\"autoplay; camera; microphone; clipboard-read; clipboard-write;\" frameborder=\"0\" allowfullscreen></iframe></div>"
      ],
      "text/plain": [
       "<IPython.core.display.HTML object>"
      ]
     },
     "metadata": {},
     "output_type": "display_data"
    },
    {
     "data": {
      "text/plain": []
     },
     "execution_count": 10,
     "metadata": {},
     "output_type": "execute_result"
    },
    {
     "name": "stdout",
     "output_type": "stream",
     "text": [
      "<module 'os' from '/Users/caslabs/opt/anaconda3/envs/musicautobot/lib/python3.10/os.py'>\n",
      "/Users/caslabs/Documents/labs/APPLYAI/music-generation/data/musicautobot-midi/examples\n",
      "/Users/caslabs/Documents/labs/APPLYAI/music-generation/data/musicautobot-midi/examples/Levels - Avicii - Verse.mid\n",
      "/Users/caslabs/Documents/labs/APPLYAI/music-generation/data/musicautobot-midi/examples/Scary Monsters And Nice Sprites - Skrillex - Pre-Chorus.mid\n",
      "/Users/caslabs/Documents/labs/APPLYAI/music-generation/data/musicautobot-midi/examples/Can You Feel The Love Tonight - Elton John - Verse.mid\n",
      "/Users/caslabs/Documents/labs/APPLYAI/music-generation/data/musicautobot-midi/examples/Locked Out Of Heaven - Bruno Mars - Chorus.mid\n",
      "/Users/caslabs/Documents/labs/APPLYAI/music-generation/data/musicautobot-midi/examples/In The Hall Of The Mountain King - Edvard Grieg - Intro.mid\n",
      "/Users/caslabs/Documents/labs/APPLYAI/music-generation/data/musicautobot-midi/examples/Colors Of The Wind - Disney - Chorus.mid\n",
      "/Users/caslabs/Documents/labs/APPLYAI/music-generation/data/musicautobot-midi/examples/I Want You Back - Jackson 5 - Intro.mid\n",
      "/Users/caslabs/Documents/labs/APPLYAI/music-generation/data/musicautobot-midi/examples/Fuer Elise - Ludwig Van Beethoven - Verse.mid\n",
      "/Users/caslabs/Documents/labs/APPLYAI/music-generation/data/musicautobot-midi/examples/A Thousand Miles - Vanessa Carlton - Verse-And-Pre-Chorus.mid\n",
      "/Users/caslabs/Documents/labs/APPLYAI/music-generation/data/musicautobot-midi/examples/The Four Seasons Concerto No 4 Winter - Antonio Vivaldi - Instrumental.mid\n",
      "/Users/caslabs/Documents/labs/APPLYAI/music-generation/data/musicautobot-midi/examples/La Bamba - Ritchie Valen - Chorus.mid\n",
      "/Users/caslabs/Documents/labs/APPLYAI/music-generation/data/musicautobot-midi/examples/Just Give Me A Reason - Pink - Chorus.mid\n",
      "/Users/caslabs/Documents/labs/APPLYAI/music-generation/data/musicautobot-midi/examples/All I Want For Christmas Is You - Mariah Carey - Pre-Chorus-And-Chorus.mid\n",
      "/Users/caslabs/Documents/labs/APPLYAI/music-generation/data/musicautobot-midi/examples/Call Me Maybe - Carly Rae Jepsen - Chorus.mid\n",
      "/Users/caslabs/Documents/labs/APPLYAI/music-generation/data/musicautobot-midi/examples/Let It Go - Idina Menzel - Chorus.mid\n",
      "/Users/caslabs/Documents/labs/APPLYAI/music-generation/data/musicautobot-midi/examples/Canon In D Major - Johann Pachelbel - Chorus.mid\n",
      "/Users/caslabs/Documents/labs/APPLYAI/music-generation/data/musicautobot-midi/examples/Roses Ft Rozes - The Chainsmokers - Chorus.mid\n",
      "/Users/caslabs/Documents/labs/APPLYAI/music-generation/data/musicautobot-midi/examples/3450entrancegodsvalhalarstevenritchie.mid\n",
      "/Users/caslabs/Documents/labs/APPLYAI/music-generation/data/musicautobot-midi/examples/pred.mid\n",
      "/Users/caslabs/Documents/labs/APPLYAI/music-generation/data/musicautobot-midi/examples/Where Is The Love - Black Eyed Peas - Chorus.mid\n",
      "/Users/caslabs/Documents/labs/APPLYAI/music-generation/data/musicautobot-midi/examples/Middle - Zedd - Pre-Chorus.mid\n"
     ]
    }
   ],
   "source": [
    "import gradio as gr\n",
    "import tempfile\n",
    "import os\n",
    "\n",
    "def text_to_midi(input_text, temperature, max_length=128, num_beams=4, num_return_sequences=1):\n",
    "    # Replace the following line with your code for generating MIDI from input text\n",
    "    # output_midi = None\n",
    "    # Learner\n",
    "    os.chdir('../../')\n",
    "    print(os)\n",
    "    midi_path =  Path('/Users/caslabs/Documents/labs/APPLYAI/music-generation/data/musicautobot-midi/examples')\n",
    "    print(midi_path)\n",
    "    learn = music_model_learner(data, pretrained_path='/Users/caslabs/Documents/labs/APPLYAI/music-generation/data/models/MusicTransformerKeyC.pth')\n",
    "    \n",
    "    midi_files = get_files(midi_path, recurse=True, extensions='.mid'); midi_files[:4]\n",
    "    for i in range(0, len(midi_files)): print(midi_files[i])\n",
    "    idx = 17\n",
    "    f = midi_files[idx]; f\n",
    "\n",
    "    cutoff_beat = 10\n",
    "\n",
    "    item = MusicItem.from_file(f, data.vocab)\n",
    "    seed_item = item.trim_to_beat(cutoff_beat)\n",
    "\n",
    "    pred, full = learn.predict(seed_item, n_words=400, temperatures=(1.1,0.4), min_bars=12, top_k=24, top_p=0.7)\n",
    "    output_midi = pred.download(filename='/Users/caslabs/Documents/labs/APPLYAI/music-generation/data/output/G_TES.mid', ext='mid')\n",
    "        \n",
    "    return output_midi\n",
    "\n",
    "demo = gr.Interface(\n",
    "    fn=text_to_midi,\n",
    "    inputs=[\n",
    "        gr.inputs.Textbox(label=\"no textual input is needed [MIDI file is pre-selected from the data folder]\"),\n",
    "        gr.inputs.Slider(minimum=-1, maximum=1, step=0.01, default=0, label=\"Temperature\"),\n",
    "        gr.inputs.Slider(minimum=1, maximum=512, step=1, default=128, label=\"Max length\"),\n",
    "        gr.inputs.Number(default=4, label=\"Number of beams\"),\n",
    "        gr.inputs.Number(default=1, label=\"Number of return sequences\")\n",
    "    ],\n",
    "    outputs=gr.outputs.File(label=\"Output MIDI FILE\")\n",
    ")\n",
    "\n",
    "demo.launch()\n"
   ]
  },
  {
   "cell_type": "code",
   "execution_count": null,
   "metadata": {},
   "outputs": [],
   "source": []
  }
 ],
 "metadata": {
  "kernelspec": {
   "display_name": "music-gen",
   "language": "python",
   "name": "python3"
  },
  "language_info": {
   "codemirror_mode": {
    "name": "ipython",
    "version": 3
   },
   "file_extension": ".py",
   "mimetype": "text/x-python",
   "name": "python",
   "nbconvert_exporter": "python",
   "pygments_lexer": "ipython3",
   "version": "3.10.9"
  },
  "orig_nbformat": 4
 },
 "nbformat": 4,
 "nbformat_minor": 2
}
