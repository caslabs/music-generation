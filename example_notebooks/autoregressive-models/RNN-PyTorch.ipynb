{
 "cells": [
  {
   "cell_type": "code",
   "execution_count": null,
   "metadata": {},
   "outputs": [],
   "source": [
    "import torch\n",
    "import torch.nn as nn\n",
    "\n",
    "# Define the RNN model\n",
    "class RNNModel(nn.Module):\n",
    "    def __init__(self, input_size, hidden_size, num_layers, output_size):\n",
    "        super(RNNModel, self).__init__()\n",
    "        self.hidden_size = hidden_size\n",
    "        self.num_layers = num_layers\n",
    "        self.rnn = nn.RNN(input_size, hidden_size, num_layers, batch_first=True)\n",
    "        self.fc = nn.Linear(hidden_size, output_size)\n",
    "\n",
    "    def forward(self, x, h=None):\n",
    "        out, h = self.rnn(x, h)\n",
    "        out = self.fc(out[:, -1, :])\n",
    "        return out, h\n",
    "\n",
    "# Define the input, output and hidden dimensions\n",
    "input_size = 10\n",
    "hidden_size = 20\n",
    "num_layers = 2\n",
    "output_size = 5\n",
    "\n",
    "# Create an instance of the model\n",
    "model = RNNModel(input_size, hidden_size, num_layers, output_size)\n",
    "\n",
    "# Define a sample input and hidden state\n",
    "x = torch.randn(1, 1, input_size)\n",
    "h = torch.randn(num_layers, 1, hidden_size)\n",
    "\n",
    "# Run the model on the input\n",
    "out, h = model(x, h)\n",
    "\n",
    "# Print the output and hidden state\n",
    "print(\"Output shape:\", out.shape)\n",
    "print(\"Hidden state shape:\", h.shape)\n"
   ]
  }
 ],
 "metadata": {
  "language_info": {
   "name": "python"
  },
  "orig_nbformat": 4
 },
 "nbformat": 4,
 "nbformat_minor": 2
}
